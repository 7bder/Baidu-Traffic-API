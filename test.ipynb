{
 "cells": [
  {
   "cell_type": "code",
   "execution_count": 11,
   "source": [
    "import requests\r\n",
    "import pandas as pd\r\n",
    "import json\r\n",
    "import re"
   ],
   "outputs": [],
   "metadata": {}
  },
  {
   "cell_type": "code",
   "execution_count": 16,
   "source": [
    "path='C:/Users/chenq/Desktop/test/爬取的交通量'\r\n",
    "file_read = 'traffic_bounds_500m-202108171930.txt'\r\n",
    "file_write = 'reindex.xlsx'\r\n",
    "column = 'road_traffic'"
   ],
   "outputs": [
    {
     "output_type": "error",
     "ename": "SyntaxError",
     "evalue": "(unicode error) 'unicodeescape' codec can't decode bytes in position 2-3: truncated \\UXXXXXXXX escape (Temp/ipykernel_17380/1090252439.py, line 1)",
     "traceback": [
      "\u001b[1;36m  File \u001b[1;32m\"C:\\Users\\chenq\\AppData\\Local\\Temp/ipykernel_17380/1090252439.py\"\u001b[1;36m, line \u001b[1;32m1\u001b[0m\n\u001b[1;33m    path=\"C:\\Users\\chenq\\Desktop\\test\\traffic\"\u001b[0m\n\u001b[1;37m                                              ^\u001b[0m\n\u001b[1;31mSyntaxError\u001b[0m\u001b[1;31m:\u001b[0m (unicode error) 'unicodeescape' codec can't decode bytes in position 2-3: truncated \\UXXXXXXXX escape\n"
     ]
    }
   ],
   "metadata": {}
  },
  {
   "cell_type": "code",
   "execution_count": 89,
   "source": [
    " # 转为DataFrame\r\n",
    "with open(path+file_read,'r',encoding='utf-8') as f:\r\n",
    "    df = pd.DataFrame([json.loads(line) for line in f.readlines()])"
   ],
   "outputs": [],
   "metadata": {}
  },
  {
   "cell_type": "code",
   "execution_count": 90,
   "source": [
    "print(df.road_traffic)"
   ],
   "outputs": [
    {
     "output_type": "stream",
     "name": "stdout",
     "text": [
      "0                                                    NaN\n",
      "1      [{'road_name': 'UNKNOW'}, {'road_name': '伏牛路'}...\n",
      "2                                                    NaN\n",
      "3      [{'road_name': 'UNKNOW'}, {'road_name': '华山路'}...\n",
      "4      [{'road_name': '冬青街'}, {'road_name': '玉兰街'}, {...\n",
      "                             ...                        \n",
      "965    [{'road_name': 'UNKNOW'}, {'road_name': '浔江东路'...\n",
      "966    [{'road_name': 'UNKNOW'}, {'road_name': '中原西路'...\n",
      "967    [{'road_name': 'UNKNOW'}, {'road_name': '中原西路'...\n",
      "968    [{'road_name': 'UNKNOW'}, {'road_name': '中原西路'...\n",
      "969    [{'road_name': '中梁线'}, {'road_name': '经南八路'}, ...\n",
      "Name: road_traffic, Length: 970, dtype: object\n"
     ]
    }
   ],
   "metadata": {}
  },
  {
   "cell_type": "code",
   "execution_count": null,
   "source": [
    "# 拆分列\r\n",
    "s=df['road_traffic']\r\n",
    "print(df)\r\n",
    "print(s)"
   ],
   "outputs": [],
   "metadata": {}
  },
  {
   "cell_type": "code",
   "execution_count": 91,
   "source": [
    "s.to_excel(path+file_write)"
   ],
   "outputs": [],
   "metadata": {}
  },
  {
   "cell_type": "code",
   "execution_count": 92,
   "source": [
    "df2=pd.read_excel(path+file_write)\r\n",
    "df2"
   ],
   "outputs": [
    {
     "output_type": "execute_result",
     "data": {
      "text/plain": [
       "     Unnamed: 0                                       road_traffic\n",
       "0             0                                                NaN\n",
       "1             1  [{'road_name': 'UNKNOW'}, {'road_name': '伏牛路'}...\n",
       "2             2                                                NaN\n",
       "3             3  [{'road_name': 'UNKNOW'}, {'road_name': '华山路'}...\n",
       "4             4  [{'road_name': '冬青街'}, {'road_name': '玉兰街'}, {...\n",
       "..          ...                                                ...\n",
       "965         965  [{'road_name': 'UNKNOW'}, {'road_name': '浔江东路'...\n",
       "966         966  [{'road_name': 'UNKNOW'}, {'road_name': '中原西路'...\n",
       "967         967  [{'road_name': 'UNKNOW'}, {'road_name': '中原西路'...\n",
       "968         968  [{'road_name': 'UNKNOW'}, {'road_name': '中原西路'...\n",
       "969         969  [{'road_name': '中梁线'}, {'road_name': '经南八路'}, ...\n",
       "\n",
       "[970 rows x 2 columns]"
      ],
      "text/html": [
       "<div>\n",
       "<style scoped>\n",
       "    .dataframe tbody tr th:only-of-type {\n",
       "        vertical-align: middle;\n",
       "    }\n",
       "\n",
       "    .dataframe tbody tr th {\n",
       "        vertical-align: top;\n",
       "    }\n",
       "\n",
       "    .dataframe thead th {\n",
       "        text-align: right;\n",
       "    }\n",
       "</style>\n",
       "<table border=\"1\" class=\"dataframe\">\n",
       "  <thead>\n",
       "    <tr style=\"text-align: right;\">\n",
       "      <th></th>\n",
       "      <th>Unnamed: 0</th>\n",
       "      <th>road_traffic</th>\n",
       "    </tr>\n",
       "  </thead>\n",
       "  <tbody>\n",
       "    <tr>\n",
       "      <th>0</th>\n",
       "      <td>0</td>\n",
       "      <td>NaN</td>\n",
       "    </tr>\n",
       "    <tr>\n",
       "      <th>1</th>\n",
       "      <td>1</td>\n",
       "      <td>[{'road_name': 'UNKNOW'}, {'road_name': '伏牛路'}...</td>\n",
       "    </tr>\n",
       "    <tr>\n",
       "      <th>2</th>\n",
       "      <td>2</td>\n",
       "      <td>NaN</td>\n",
       "    </tr>\n",
       "    <tr>\n",
       "      <th>3</th>\n",
       "      <td>3</td>\n",
       "      <td>[{'road_name': 'UNKNOW'}, {'road_name': '华山路'}...</td>\n",
       "    </tr>\n",
       "    <tr>\n",
       "      <th>4</th>\n",
       "      <td>4</td>\n",
       "      <td>[{'road_name': '冬青街'}, {'road_name': '玉兰街'}, {...</td>\n",
       "    </tr>\n",
       "    <tr>\n",
       "      <th>...</th>\n",
       "      <td>...</td>\n",
       "      <td>...</td>\n",
       "    </tr>\n",
       "    <tr>\n",
       "      <th>965</th>\n",
       "      <td>965</td>\n",
       "      <td>[{'road_name': 'UNKNOW'}, {'road_name': '浔江东路'...</td>\n",
       "    </tr>\n",
       "    <tr>\n",
       "      <th>966</th>\n",
       "      <td>966</td>\n",
       "      <td>[{'road_name': 'UNKNOW'}, {'road_name': '中原西路'...</td>\n",
       "    </tr>\n",
       "    <tr>\n",
       "      <th>967</th>\n",
       "      <td>967</td>\n",
       "      <td>[{'road_name': 'UNKNOW'}, {'road_name': '中原西路'...</td>\n",
       "    </tr>\n",
       "    <tr>\n",
       "      <th>968</th>\n",
       "      <td>968</td>\n",
       "      <td>[{'road_name': 'UNKNOW'}, {'road_name': '中原西路'...</td>\n",
       "    </tr>\n",
       "    <tr>\n",
       "      <th>969</th>\n",
       "      <td>969</td>\n",
       "      <td>[{'road_name': '中梁线'}, {'road_name': '经南八路'}, ...</td>\n",
       "    </tr>\n",
       "  </tbody>\n",
       "</table>\n",
       "<p>970 rows × 2 columns</p>\n",
       "</div>"
      ]
     },
     "metadata": {},
     "execution_count": 92
    }
   ],
   "metadata": {}
  },
  {
   "cell_type": "code",
   "execution_count": 94,
   "source": [
    "data_split = df2[column].str.split(',',expand=True).stack().reset_index()"
   ],
   "outputs": [],
   "metadata": {}
  },
  {
   "cell_type": "code",
   "execution_count": 95,
   "source": [
    "writer = pd.ExcelWriter(path+file_write)\r\n",
    "data_split.to_excel(writer,sheet_name='splited_')\r\n"
   ],
   "outputs": [],
   "metadata": {}
  },
  {
   "cell_type": "code",
   "execution_count": null,
   "source": [],
   "outputs": [],
   "metadata": {}
  },
  {
   "cell_type": "code",
   "execution_count": null,
   "source": [
    "data_split = df[split_column].str.split(',', expand=True).stack().reset_index()\r\n",
    "    # 重建表头\r\n",
    "data_split.columns = ['index','sub_level',split_column]\r\n",
    "data_split.to_excel(path+file_write)\r\n"
   ],
   "outputs": [],
   "metadata": {}
  }
 ],
 "metadata": {
  "orig_nbformat": 4,
  "language_info": {
   "name": "python",
   "version": "3.9.5",
   "mimetype": "text/x-python",
   "codemirror_mode": {
    "name": "ipython",
    "version": 3
   },
   "pygments_lexer": "ipython3",
   "nbconvert_exporter": "python",
   "file_extension": ".py"
  },
  "kernelspec": {
   "name": "python3",
   "display_name": "Python 3.9.5 64-bit"
  },
  "interpreter": {
   "hash": "ac59ebe37160ed0dfa835113d9b8498d9f09ceb179beaac4002f036b9467c963"
  }
 },
 "nbformat": 4,
 "nbformat_minor": 2
}